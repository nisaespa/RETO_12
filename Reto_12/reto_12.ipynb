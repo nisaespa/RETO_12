{
 "cells": [
  {
   "cell_type": "markdown",
   "metadata": {},
   "source": [
    "# Reto 12"
   ]
  },
  {
   "cell_type": "code",
   "execution_count": null,
   "metadata": {},
   "outputs": [],
   "source": [
    "# Importa la clase Counter de la librería collections, que se utilizará para contar elementos.\n",
    "from collections import Counter\n",
    "# función llamada contar vocales y consonantes que toma un parámetro de texto.\n",
    "def contar_vocales_y_consonantes(texto):\n",
    "    # Inicializa contadores para las vocales y las consonantes.\n",
    "    count_vocales = 0 \n",
    "    count_consonantes = 0 \n",
    "    # Itera sobre cada letra en el texto.\n",
    "    for letra in texto:                                                      \n",
    "        # Convierte la letra a minúsculas para realizar comparaciones sin distinción entre mayúsculas y minúsculas.\n",
    "        letra_min = letra.lower()                                              \n",
    "        # Comprueba si la letra (en minúsculas) es una vocal.\n",
    "        if letra_min in \"aeiouáéíóú\":                                            \n",
    "            count_vocales += 1                                                         \n",
    "        # Comprueba si la letra (en minúsculas) es una consonante.\n",
    "        elif letra_min in \"bcdfghjklmnñpqrstvwxyz\":                              \n",
    "            count_consonantes += 1 \n",
    "    # Imprime el número de vocales y consonantes.\n",
    "    print(\"El número de vocales es: \" + str(count_vocales)) \n",
    "    print(\"El número de consonantes es: \" + str(count_consonantes)) \n",
    "# Define una función llamada palabras_mas_repetidas que toma un parámetro de texto.\n",
    "def palabras_mas_repetidas(texto):\n",
    "    # Divide el texto en palabras.\n",
    "    palabras = texto.split()                                                    \n",
    "    # Utiliza Counter para contar la frecuencia de cada palabra y obtiene las 50 palabras más comunes.\n",
    "    palabras_repetidas = Counter(palabras).most_common(50)                              \n",
    "    # Imprime las 50 palabras más repetidas.\n",
    "    print(\"Las 50 palabras que más se repiten son: \" + str(palabras_repetidas))\n",
    "# Comprueba si este script es el programa principal que se está ejecutando.\n",
    "if __name__ == \"__main__\":\n",
    "    # Abre el archivo \"mbox-short.txt\" en modo de lectura y lo asocia con el identificador 'archivo'.\n",
    "    with open(\"mbox-short.txt\", \"r\") as archivo:                                     \n",
    "        # Lee el contenido del archivo y lo asigna a la variable 'texto_archivo'.\n",
    "        texto_archivo = archivo.read()                                                       \n",
    "    # Llama a la función contar_vocales_y_consonantes con el texto del archivo como argumento.\n",
    "    contar_vocales_y_consonantes(texto_archivo)                                                  \n",
    "    # Llama a la función palabras_mas_repetidas con el texto del archivo como argumento.\n",
    "    palabras_mas_repetidas(texto_archivo)       "
   ]
  }
 ],
 "metadata": {
  "language_info": {
   "name": "python"
  }
 },
 "nbformat": 4,
 "nbformat_minor": 2
}
